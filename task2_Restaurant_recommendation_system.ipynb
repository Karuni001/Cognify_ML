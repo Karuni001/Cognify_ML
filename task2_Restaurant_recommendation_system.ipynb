{
  "nbformat": 4,
  "nbformat_minor": 0,
  "metadata": {
    "colab": {
      "provenance": [],
      "mount_file_id": "1pr1vrpQzgzniXBCIxYgu1eysSem3Tnpe",
      "authorship_tag": "ABX9TyPR1ZQyWeB3GRsxjLWbj1nt",
      "include_colab_link": true
    },
    "kernelspec": {
      "name": "python3",
      "display_name": "Python 3"
    },
    "language_info": {
      "name": "python"
    }
  },
  "cells": [
    {
      "cell_type": "markdown",
      "metadata": {
        "id": "view-in-github",
        "colab_type": "text"
      },
      "source": [
        "<a href=\"https://colab.research.google.com/github/Karuni001/Cognify_ML/blob/main/task2_Restaurant_recommendation_system.ipynb\" target=\"_parent\"><img src=\"https://colab.research.google.com/assets/colab-badge.svg\" alt=\"Open In Colab\"/></a>"
      ]
    },
    {
      "cell_type": "code",
      "execution_count": 1,
      "metadata": {
        "id": "qlCNICC8LGYD"
      },
      "outputs": [],
      "source": [
        "import pandas as pd\n",
        "from sklearn.feature_extraction.text import TfidfVectorizer\n",
        "from sklearn.metrics.pairwise import cosine_similarity"
      ]
    },
    {
      "cell_type": "code",
      "source": [
        "#Loading and clean the dataset\n",
        "df = pd.read_csv(\"restaurant_data.csv\")\n",
        "\n",
        "df = df[['Restaurant Name', 'City', 'Cuisines', 'Average Cost for two', 'Price range', 'Has Online delivery',\n",
        "         'Has Table booking']]\n",
        "df.dropna(inplace=True)\n",
        "print(\"Columns in dataset:\", df.columns.tolist())\n",
        "print(\"Initial rows:\\n\", df.head())"
      ],
      "metadata": {
        "colab": {
          "base_uri": "https://localhost:8080/"
        },
        "id": "r-RULWquLUjD",
        "outputId": "a04ef1bc-1b53-4d61-ef6d-b8c80219f4ac"
      },
      "execution_count": 4,
      "outputs": [
        {
          "output_type": "stream",
          "name": "stdout",
          "text": [
            "Columns in dataset: ['Restaurant Name', 'City', 'Cuisines', 'Average Cost for two', 'Price range', 'Has Online delivery', 'Has Table booking']\n",
            "Initial rows:\n",
            "           Restaurant Name              City                          Cuisines  \\\n",
            "0        Le Petit Souffle       Makati City        French, Japanese, Desserts   \n",
            "1        Izakaya Kikufuji       Makati City                          Japanese   \n",
            "2  Heat - Edsa Shangri-La  Mandaluyong City  Seafood, Asian, Filipino, Indian   \n",
            "3                    Ooma  Mandaluyong City                   Japanese, Sushi   \n",
            "4             Sambo Kojin  Mandaluyong City                  Japanese, Korean   \n",
            "\n",
            "   Average Cost for two  Price range Has Online delivery Has Table booking  \n",
            "0                  1100            3                  No               Yes  \n",
            "1                  1200            3                  No               Yes  \n",
            "2                  4000            4                  No               Yes  \n",
            "3                  1500            4                  No                No  \n",
            "4                  1500            4                  No               Yes  \n"
          ]
        }
      ]
    },
    {
      "cell_type": "code",
      "source": [
        "df[\"Average Cost for two\"] = df[\"Average Cost for two\"].astype(str).str.replace(\",\", \"\")\n",
        "df[\"Average Cost for two\"] = pd.to_numeric(df[\"Average Cost for two\"], errors=\"coerce\")\n",
        "df.dropna(inplace=True)\n",
        "\n",
        "df['Cuisines'] = df['Cuisines'].astype(str).str.lower()\n",
        "df['City'] = df['City'].astype(str).str.lower()"
      ],
      "metadata": {
        "id": "r6rnUJjnLa7P"
      },
      "execution_count": 5,
      "outputs": []
    },
    {
      "cell_type": "code",
      "source": [
        "df['combined'] = df['Cuisines'] + \" \" + df['City'] + \" \" + df['Price range'].astype(str)"
      ],
      "metadata": {
        "id": "8gs_P-OYLcPw"
      },
      "execution_count": 6,
      "outputs": []
    },
    {
      "cell_type": "code",
      "source": [
        "#Converting to TF-IDF matrix\n",
        "tfidf = TfidfVectorizer(stop_words='english')\n",
        "tfidf_matrix = tfidf.fit_transform(df['combined'])\n",
        "\n",
        "cosine_sim = cosine_similarity(tfidf_matrix, tfidf_matrix)"
      ],
      "metadata": {
        "id": "d2nIHHf0Lftv"
      },
      "execution_count": 8,
      "outputs": []
    },
    {
      "cell_type": "code",
      "source": [
        "# Recommendation function\n",
        "def recommend_restaurants(user_cuisine, user_city, user_price_range, top_n=5):\n",
        "    user_pref = f\"{user_cuisine.lower()} {user_city.lower()} {user_price_range}\"\n",
        "    user_vec = tfidf.transform([user_pref])\n",
        "\n",
        "    sim_scores = cosine_similarity(user_vec, tfidf_matrix).flatten()\n",
        "    top_indices = sim_scores.argsort()[-top_n:][::-1]\n",
        "\n",
        "    recommendations = df.iloc[top_indices][['Restaurant Name', 'City', 'Cuisines', 'Price range']]\n",
        "    print(f\"\\nTop {top_n} Recommendations for you:\\n\")\n",
        "    print(recommendations.to_string(index=False))"
      ],
      "metadata": {
        "id": "VJD2AlTrLjVH"
      },
      "execution_count": 9,
      "outputs": []
    },
    {
      "cell_type": "code",
      "source": [
        "recommend_restaurants(user_cuisine=\"North Indian\", user_city=\"Delhi\", user_price_range=3)"
      ],
      "metadata": {
        "colab": {
          "base_uri": "https://localhost:8080/"
        },
        "id": "Aeqk5XRMLlOv",
        "outputId": "894880fc-1990-413e-8341-faf1a8039335"
      },
      "execution_count": 10,
      "outputs": [
        {
          "output_type": "stream",
          "name": "stdout",
          "text": [
            "\n",
            "Top 5 Recommendations for you:\n",
            "\n",
            "          Restaurant Name      City     Cuisines  Price range\n",
            "              Food Corner new delhi north indian            1\n",
            "Sunny Restaurant & Tiffin new delhi north indian            1\n",
            "         Mikky Restaurant new delhi north indian            2\n",
            "        Shree Laxmi Dhaba new delhi north indian            1\n",
            "         Shree Bhojnalaya new delhi north indian            1\n"
          ]
        }
      ]
    }
  ]
}